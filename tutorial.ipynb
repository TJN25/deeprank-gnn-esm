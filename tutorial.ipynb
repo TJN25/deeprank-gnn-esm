{
 "cells": [
  {
   "cell_type": "markdown",
   "metadata": {},
   "source": [
    "## Run DeepRank-GNN-esm computation using the deep learning architecture"
   ]
  },
  {
   "cell_type": "markdown",
   "metadata": {},
   "source": [
    "Follow the steps:  \n",
    "Step 1: Prepare input folder  \n",
    "Step 2: Prepare input proteins  \n",
    "Step 3: Extract fasta sequences and Calculate ESM-2 embeddings  \n",
    "Step 4: Convert the input PDBs into interface graphs for DeepRank-GNN-esm  \n",
    "Step 5: Use pre-trained model to rank the input conformations  \n",
    "Step 6: Analyze the result"
   ]
  },
  {
   "cell_type": "markdown",
   "metadata": {},
   "source": [
    "### Step1: Create a new directory for the tutorial and copy all example PDB files to the new directory:\n"
   ]
  },
  {
   "cell_type": "code",
   "execution_count": null,
   "metadata": {
    "vscode": {
     "languageId": "powershell"
    }
   },
   "outputs": [],
   "source": [
    "%mkdir tutorial\n",
    "%cp -r example/data/pdb/1ATN/ tutorial/\n",
    "%cd tutorial"
   ]
  },
  {
   "cell_type": "markdown",
   "metadata": {
    "vscode": {
     "languageId": "shellscript"
    }
   },
   "source": [
    "### Step2: Prepare all input PDBs in the folder"
   ]
  },
  {
   "cell_type": "code",
   "execution_count": 7,
   "metadata": {
    "vscode": {
     "languageId": "powershell"
    }
   },
   "outputs": [],
   "source": [
    "!for pdb_file in 1ATN/*.pdb; do python ../scripts/pdb_renumber.py \"$pdb_file\" 1 1ATN/; done"
   ]
  },
  {
   "cell_type": "markdown",
   "metadata": {
    "vscode": {
     "languageId": "powershell"
    }
   },
   "source": [
    "### Step3: Extract fasta sequences and Calculate ESM-2 embeddings"
   ]
  },
  {
   "cell_type": "code",
   "execution_count": null,
   "metadata": {
    "vscode": {
     "languageId": "powershell"
    }
   },
   "outputs": [],
   "source": [
    "#extract fasta squences from pdb files\n",
    "!python ../scripts/get_fasta.py 1ATN/ A B\n",
    "\n",
    "#calculate ESM-2 embeddings\n",
    "%mkdir embedding\n",
    "!python ../esm/scripts/extract.py esm2_t33_650M_UR50D 1ATN.fasta embedding --repr_layers 33 --include mean per_tok"
   ]
  },
  {
   "cell_type": "markdown",
   "metadata": {
    "vscode": {
     "languageId": "powershell"
    }
   },
   "source": [
    "### Step4: Convert the input PDBs into interface graphs "
   ]
  },
  {
   "cell_type": "code",
   "execution_count": null,
   "metadata": {},
   "outputs": [],
   "source": [
    "from deeprank_gnn.GraphGenMP import GraphHDF5\n",
    "pdb_path = \"1ATN\"\n",
    "embedding_path = \"embedding\"\n",
    "nproc = 20\n",
    "outfile = \"1ATN_residue.hdf5\"\n",
    "GraphHDF5(pdb_path = pdb_path,\n",
    "               embedding_path = embedding_path,\n",
    "               graph_type = \"residue\",\n",
    "               outfile = outfile,\n",
    "               nproc = nproc,\n",
    "               tmpdir=\"./tmpdir\")"
   ]
  },
  {
   "cell_type": "markdown",
   "metadata": {},
   "source": [
    "### Step5: Use pre-trained model to rank the input conformations "
   ]
  },
  {
   "cell_type": "code",
   "execution_count": null,
   "metadata": {},
   "outputs": [],
   "source": [
    "from deeprank_gnn.ginet import GINet\n",
    "from deeprank_gnn.NeuralNet import NeuralNet as NN\n",
    "database_test = \"1ATN_residue.hdf5\"\n",
    "gnn = GINet\n",
    "target = \"fnat\"\n",
    "edge_feature = [\"dist\"]\n",
    "node_features=[\"type\", \"polarity\", \"bsa\", \"charge\", \"embedding\"]\n",
    "threshold = 0.3\n",
    "pretrained_model=\"../paper_pretrained_models/scoring_of_docking_models/gnn_esm/treg_yfnat_b64_e20_lr0.001_foldall_esm.pth.tar\"\n",
    "device_name = \"cuda:0\"\n",
    "num_workers = 10\n",
    "model = NN(\n",
    "            database_test,\n",
    "            gnn,\n",
    "            device_name = device_name,\n",
    "            edge_feature = edge_feature,\n",
    "            node_feature = node_features,\n",
    "            target = target,\n",
    "            num_workers = num_workers,\n",
    "            pretrained_model=pretrained_model,\n",
    "            threshold = threshold)\n",
    "model.test(hdf5 = \"GNN_esm_prediction.hdf5\")"
   ]
  },
  {
   "cell_type": "markdown",
   "metadata": {},
   "source": [
    "### Step6: Analysis the output"
   ]
  },
  {
   "cell_type": "code",
   "execution_count": null,
   "metadata": {},
   "outputs": [],
   "source": [
    "import h5py\n",
    "f = h5py.File(\"GNN_esm_prediction.hdf5\",\"r+\")\n",
    "mol_names = f[\"epoch_0000\"][\"test\"][\"mol\"][()]\n",
    "fnats = f[\"epoch_0000\"][\"test\"][\"outputs\"][()]\n",
    "for mol, fnat in zip(mol_names, fnats):\n",
    "    print(mol.decode(), fnat)"
   ]
  }
 ],
 "metadata": {
  "kernelspec": {
   "display_name": "deeprank-gnn-esm-gpu",
   "language": "python",
   "name": "python3"
  },
  "language_info": {
   "codemirror_mode": {
    "name": "ipython",
    "version": 3
   },
   "file_extension": ".py",
   "mimetype": "text/x-python",
   "name": "python",
   "nbconvert_exporter": "python",
   "pygments_lexer": "ipython3",
   "version": "3.9.16"
  }
 },
 "nbformat": 4,
 "nbformat_minor": 2
}
